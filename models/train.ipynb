{
 "cells": [
  {
   "cell_type": "code",
   "execution_count": 1,
   "id": "baf2d5a5",
   "metadata": {},
   "outputs": [],
   "source": [
    "from ultralytics import YOLO"
   ]
  },
  {
   "cell_type": "markdown",
   "id": "daf84bfb",
   "metadata": {},
   "source": [
    "#### Train"
   ]
  },
  {
   "cell_type": "code",
   "execution_count": null,
   "id": "44a04cf3",
   "metadata": {},
   "outputs": [
    {
     "name": "stdout",
     "output_type": "stream",
     "text": [
      "New https://pypi.org/project/ultralytics/8.3.218 available 😃 Update with 'pip install -U ultralytics'\n",
      "Ultralytics 8.3.217 🚀 Python-3.12.7 torch-2.9.0+cu128 CUDA:0 (NVIDIA GeForce RTX 3060, 12042MiB)\n",
      "\u001b[34m\u001b[1mengine/trainer: \u001b[0magnostic_nms=False, amp=True, augment=False, auto_augment=randaugment, batch=64, bgr=0.0, box=7.5, cache=False, cfg=None, classes=None, close_mosaic=10, cls=0.5, compile=False, conf=None, copy_paste=0.0, copy_paste_mode=flip, cos_lr=False, cutmix=0.0, data=datasetv2.yml, degrees=0.0, deterministic=True, device=None, dfl=1.5, dnn=False, dropout=0.0, dynamic=False, embed=None, epochs=500, erasing=0.4, exist_ok=False, fliplr=0.5, flipud=0.0, format=torchscript, fraction=1.0, freeze=None, half=False, hsv_h=0.015, hsv_s=0.7, hsv_v=0.4, imgsz=640, int8=False, iou=0.7, keras=False, kobj=1.0, line_width=None, lr0=0.01, lrf=0.01, mask_ratio=4, max_det=300, mixup=0.0, mode=train, model=yolo11m.pt, momentum=0.937, mosaic=1.0, multi_scale=False, name=yolo11m-6402, nbs=64, nms=False, opset=None, optimize=False, optimizer=auto, overlap_mask=True, patience=200, perspective=0.0, plots=True, pose=12.0, pretrained=True, profile=False, project=None, rect=False, resume=False, retina_masks=False, save=True, save_conf=False, save_crop=False, save_dir=/media/paulo/datapartition1/projects/cloudwalk/nimbus3/runs/detect/yolo11m-6402, save_frames=False, save_json=False, save_period=-1, save_txt=False, scale=0.5, seed=0, shear=0.0, show=False, show_boxes=True, show_conf=True, show_labels=True, simplify=True, single_cls=False, source=None, split=val, stream_buffer=False, task=detect, time=None, tracker=botsort.yaml, translate=0.1, val=True, verbose=True, vid_stride=1, visualize=False, warmup_bias_lr=0.1, warmup_epochs=3.0, warmup_momentum=0.8, weight_decay=0.0005, workers=8, workspace=None\n",
      "Overriding model.yaml nc=80 with nc=1\n",
      "\n",
      "                   from  n    params  module                                       arguments                     \n",
      "  0                  -1  1      1856  ultralytics.nn.modules.conv.Conv             [3, 64, 3, 2]                 \n",
      "  1                  -1  1     73984  ultralytics.nn.modules.conv.Conv             [64, 128, 3, 2]               \n",
      "  2                  -1  1    111872  ultralytics.nn.modules.block.C3k2            [128, 256, 1, True, 0.25]     \n",
      "  3                  -1  1    590336  ultralytics.nn.modules.conv.Conv             [256, 256, 3, 2]              \n",
      "  4                  -1  1    444928  ultralytics.nn.modules.block.C3k2            [256, 512, 1, True, 0.25]     \n",
      "  5                  -1  1   2360320  ultralytics.nn.modules.conv.Conv             [512, 512, 3, 2]              \n",
      "  6                  -1  1   1380352  ultralytics.nn.modules.block.C3k2            [512, 512, 1, True]           \n",
      "  7                  -1  1   2360320  ultralytics.nn.modules.conv.Conv             [512, 512, 3, 2]              \n",
      "  8                  -1  1   1380352  ultralytics.nn.modules.block.C3k2            [512, 512, 1, True]           \n",
      "  9                  -1  1    656896  ultralytics.nn.modules.block.SPPF            [512, 512, 5]                 \n",
      " 10                  -1  1    990976  ultralytics.nn.modules.block.C2PSA           [512, 512, 1]                 \n",
      " 11                  -1  1         0  torch.nn.modules.upsampling.Upsample         [None, 2, 'nearest']          \n",
      " 12             [-1, 6]  1         0  ultralytics.nn.modules.conv.Concat           [1]                           \n",
      " 13                  -1  1   1642496  ultralytics.nn.modules.block.C3k2            [1024, 512, 1, True]          \n",
      " 14                  -1  1         0  torch.nn.modules.upsampling.Upsample         [None, 2, 'nearest']          \n",
      " 15             [-1, 4]  1         0  ultralytics.nn.modules.conv.Concat           [1]                           \n",
      " 16                  -1  1    542720  ultralytics.nn.modules.block.C3k2            [1024, 256, 1, True]          \n",
      " 17                  -1  1    590336  ultralytics.nn.modules.conv.Conv             [256, 256, 3, 2]              \n",
      " 18            [-1, 13]  1         0  ultralytics.nn.modules.conv.Concat           [1]                           \n",
      " 19                  -1  1   1511424  ultralytics.nn.modules.block.C3k2            [768, 512, 1, True]           \n",
      " 20                  -1  1   2360320  ultralytics.nn.modules.conv.Conv             [512, 512, 3, 2]              \n",
      " 21            [-1, 10]  1         0  ultralytics.nn.modules.conv.Concat           [1]                           \n",
      " 22                  -1  1   1642496  ultralytics.nn.modules.block.C3k2            [1024, 512, 1, True]          \n",
      " 23        [16, 19, 22]  1   1411795  ultralytics.nn.modules.head.Detect           [1, [256, 512, 512]]          \n",
      "YOLO11m summary: 231 layers, 20,053,779 parameters, 20,053,763 gradients, 68.2 GFLOPs\n",
      "\n",
      "Transferred 643/649 items from pretrained weights\n",
      "Freezing layer 'model.23.dfl.conv.weight'\n",
      "\u001b[34m\u001b[1mAMP: \u001b[0mrunning Automatic Mixed Precision (AMP) checks...\n",
      "\u001b[34m\u001b[1mAMP: \u001b[0mchecks passed ✅\n",
      "\u001b[34m\u001b[1mtrain: \u001b[0mFast image access ✅ (ping: 0.0±0.0 ms, read: 3316.0±1988.9 MB/s, size: 238.9 KB)\n",
      "\u001b[K\u001b[34m\u001b[1mtrain: \u001b[0mScanning /media/paulo/datapartition1/projects/cloudwalk/nimbus3/data/kaggle/datasetv2/YOLO/labels/train... 241 images, 652 backgrounds, 0 corrupt: 100% ━━━━━━━━━━━━ 890/890 819.3it/s 1.1s0.1s\n",
      "\u001b[34m\u001b[1mtrain: \u001b[0mNew cache created: /media/paulo/datapartition1/projects/cloudwalk/nimbus3/data/kaggle/datasetv2/YOLO/labels/train.cache\n",
      "\u001b[34m\u001b[1mval: \u001b[0mFast image access ✅ (ping: 0.0±0.0 ms, read: 2342.1±826.7 MB/s, size: 282.6 KB)\n",
      "\u001b[K\u001b[34m\u001b[1mval: \u001b[0mScanning /media/paulo/datapartition1/projects/cloudwalk/nimbus3/data/kaggle/datasetv2/YOLO/labels/val... 78 images, 161 backgrounds, 0 corrupt: 100% ━━━━━━━━━━━━ 239/239 561.1it/s 0.4s0.0s\n",
      "\u001b[34m\u001b[1mval: \u001b[0mNew cache created: /media/paulo/datapartition1/projects/cloudwalk/nimbus3/data/kaggle/datasetv2/YOLO/labels/val.cache\n"
     ]
    }
   ],
   "source": [
    "model = YOLO(\"yolo11s.pt\")\n",
    "\n",
    "results = model.train(data=\"vision/datasetv3.yml\", epochs=500, imgsz=320, patience=100, name=\"yolo11s-320\")"
   ]
  },
  {
   "cell_type": "markdown",
   "id": "4ec3aa6f",
   "metadata": {},
   "source": [
    "### Val"
   ]
  },
  {
   "cell_type": "code",
   "execution_count": null,
   "id": "6e9609aa",
   "metadata": {},
   "outputs": [
    {
     "name": "stdout",
     "output_type": "stream",
     "text": [
      "Ultralytics 8.3.217 🚀 Python-3.12.7 torch-2.9.0+cu128 CUDA:0 (NVIDIA GeForce RTX 3060, 12042MiB)\n",
      "YOLO11s summary (fused): 100 layers, 9,413,187 parameters, 0 gradients, 21.3 GFLOPs\n",
      "\u001b[34m\u001b[1mval: \u001b[0mFast image access ✅ (ping: 0.0±0.0 ms, read: 4587.4±532.7 MB/s, size: 290.3 KB)\n",
      "\u001b[K\u001b[34m\u001b[1mval: \u001b[0mScanning /media/paulo/datapartition1/projects/cloudwalk/nimbus3/data/kaggle/datasetv3/YOLODataset/labels/val.cache... 119 images, 164 backgrounds, 0 corrupt: 100% ━━━━━━━━━━━━ 280/280 513.3Kit/s 0.0s\n",
      "\u001b[K                 Class     Images  Instances      Box(P          R      mAP50  mAP50-95): 100% ━━━━━━━━━━━━ 18/18 9.9it/s 1.8s<0.1s\n",
      "                   all        280        237      0.825      0.857      0.879      0.511\n",
      "Speed: 0.4ms preprocess, 3.8ms inference, 0.0ms loss, 0.4ms postprocess per image\n",
      "Results saved to \u001b[1m/media/paulo/datapartition1/projects/cloudwalk/nimbus3/runs/detect/val\u001b[0m\n",
      "map50-95: 0.5110683996444484\n",
      "map50: 0.8786664496838568\n",
      "map75: 0.5293050809907344\n",
      "box maps: [0.5110684]\n"
     ]
    }
   ],
   "source": [
    "model = YOLO(\"runs/detect/yolo11sv3-320/weights/best.pt\") \n",
    "\n",
    "th = 0.25\n",
    "iou = 0.4\n",
    "\n",
    "# Validate the model\n",
    "metrics = model.val(conf=th, iou=iou, \n",
    "                    data=\"data/kaggle/datasetv3.yml\"\n",
    "                    )\n",
    "print(f'map50-95: {metrics.box.map}')  # map50-95\n",
    "print(f'map50: {metrics.box.map50}')  # map50\n",
    "print(f'map75: {metrics.box.map75}')  # map75\n",
    "print(f'box maps: {metrics.box.maps}')"
   ]
  }
 ],
 "metadata": {
  "kernelspec": {
   "display_name": "nimbus3",
   "language": "python",
   "name": "python3"
  },
  "language_info": {
   "codemirror_mode": {
    "name": "ipython",
    "version": 3
   },
   "file_extension": ".py",
   "mimetype": "text/x-python",
   "name": "python",
   "nbconvert_exporter": "python",
   "pygments_lexer": "ipython3",
   "version": "3.12.7"
  }
 },
 "nbformat": 4,
 "nbformat_minor": 5
}
